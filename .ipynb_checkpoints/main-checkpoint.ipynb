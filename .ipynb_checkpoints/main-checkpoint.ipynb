{
 "cells": [
  {
   "cell_type": "markdown",
   "metadata": {},
   "source": [
    "# Runs simulations"
   ]
  },
  {
   "cell_type": "markdown",
   "metadata": {},
   "source": [
    "Descriptive text to be added"
   ]
  },
  {
   "cell_type": "markdown",
   "metadata": {},
   "source": [
    "### Imports"
   ]
  },
  {
   "cell_type": "code",
   "execution_count": 39,
   "metadata": {},
   "outputs": [],
   "source": [
    "import math\n",
    "import random\n",
    "import matplotlib\n",
    "import matplotlib.pyplot as plt\n",
    "\n",
    "from helperfcts import *\n",
    "from heap import Heap\n",
    "from randomgraph import RandomGraph"
   ]
  },
  {
   "cell_type": "markdown",
   "metadata": {},
   "source": [
    "### Experimental parameters"
   ]
  },
  {
   "cell_type": "code",
   "execution_count": 40,
   "metadata": {},
   "outputs": [],
   "source": [
    "no_agents = 200\n",
    "H = Heap(no_agents)\n",
    "\n",
    "graph_size = 1000 # n\n",
    "edge_probability = 0.5 # p\n",
    "Gnp = RandomGraph(graph_size, edge_probability)\n",
    "\n",
    "mu = 0 # average value\n",
    "sigma = 10 # gaussian noise\n",
    "clock_rate = 1 # Poisson process for asynchronous agent actions\n",
    "simulation_time = 100"
   ]
  },
  {
   "cell_type": "markdown",
   "metadata": {},
   "source": [
    "### Experiment"
   ]
  },
  {
   "cell_type": "code",
   "execution_count": 41,
   "metadata": {},
   "outputs": [
    {
     "name": "stdout",
     "output_type": "stream",
     "text": [
      "Initial mean and standard deviation in values are (-1.012, 9.952)\n"
     ]
    },
    {
     "data": {
      "image/png": "[encoded data removed]",
      "text/plain": [
       "<Figure size 432x288 with 1 Axes>"
      ]
     },
     "metadata": {},
     "output_type": "display_data"
    },
    {
     "name": "stdout",
     "output_type": "stream",
     "text": [
      "Final mean and standard deviation in values are (-1.012, 0.019)\n"
     ]
    },
    {
     "data": {
      "image/png": "[encoded data removed]",
      "text/plain": [
       "<Figure size 432x288 with 1 Axes>"
      ]
     },
     "metadata": {},
     "output_type": "display_data"
    }
   ],
   "source": [
    "# get agents started\n",
    "val = []\n",
    "for uuid in range(no_agents):\n",
    "    clock = exp_rv(clock_rate)\n",
    "    pos = random.randint(0, graph_size-1)\n",
    "    Gnp.agents[pos].add(uuid)\n",
    "    H.insert(uuid, clock, pos)\n",
    "    val.append(random.gauss(mu, sigma))\n",
    "\n",
    "# print initial value statistics and histogram\n",
    "mean = sum(val) / no_agents\n",
    "var = sum([((x - mean) ** 2) for x in val]) / no_agents\n",
    "std = var ** 0.5 \n",
    "print('Initial mean and standard deviation in values are ({:.3f}, {:.3f})'.format(mean, std))\n",
    "plt.hist(val, bins=25)\n",
    "plt.show()\n",
    "\n",
    "# run agents until time t\n",
    "while True:\n",
    "    # pop next agent from heap\n",
    "    (uuid, event_time, pos) = H.delete_min()\n",
    "    \n",
    "    # stop simulation if out of time\n",
    "    if event_time > simulation_time:\n",
    "        break\n",
    "    \n",
    "    # remove current agent from node and pick random agent at same node to average values\n",
    "    Gnp.agents[pos].remove(uuid)\n",
    "    if len(Gnp.agents[pos]):\n",
    "        neighbor = random.randint(0, len(Gnp.agents[pos]))\n",
    "        self_val = val[uuid]\n",
    "        neighbor_val = val[neighbor]\n",
    "        avg_val = (self_val + neighbor_val) / 2\n",
    "        val[uuid] = avg_val\n",
    "        val[neighbor] = avg_val\n",
    "    \n",
    "    # move current agent to random neighboring node\n",
    "    next_pos_ind = random.randint(0, len(Gnp.graph[pos])-1)\n",
    "    next_pos = Gnp.graph[pos][next_pos_ind]\n",
    "    Gnp.agents[next_pos].add(uuid)\n",
    "    \n",
    "    # update current agent's clock and insert it in heap\n",
    "    next_clock = event_time + exp_rv(clock_rate)\n",
    "    H.insert(uuid, next_clock, next_pos)\n",
    "\n",
    "# print final value statistics and histogram\n",
    "mean = sum(val) / no_agents\n",
    "var = sum([((x - mean) ** 2) for x in val]) / no_agents\n",
    "std = var ** 0.5 \n",
    "print('Final mean and standard deviation in values are ({:.3f}, {:.3f})'.format(mean, std))\n",
    "plt.hist(val, bins=25)\n",
    "plt.show()"
   ]
  },
  {
   "cell_type": "code",
   "execution_count": null,
   "metadata": {},
   "outputs": [],
   "source": []
  }
 ],
 "metadata": {
  "kernelspec": {
   "display_name": "Python 3",
   "language": "python",
   "name": "python3"
  },
  "language_info": {
   "codemirror_mode": {
    "name": "ipython",
    "version": 3
   },
   "file_extension": ".py",
   "mimetype": "text/x-python",
   "name": "python",
   "nbconvert_exporter": "python",
   "pygments_lexer": "ipython3",
   "version": "3.6.4"
  }
 },
 "nbformat": 4,
 "nbformat_minor": 2
}
